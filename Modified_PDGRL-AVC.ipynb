{
 "cells": [
  {
   "cell_type": "code",
   "execution_count": 1,
   "metadata": {
    "id": "TEmji3-DgoYl"
   },
   "outputs": [],
   "source": [
    "import numpy as np\n",
    "import matplotlib.pyplot as plt\n",
    "import random\n",
    "random.seed(10)\n",
    "import networkx as nx\n",
    "import math\n",
    "from numpy import linalg as LA\n",
    "from itertools import permutations"
   ]
  },
  {
   "cell_type": "code",
   "execution_count": 2,
   "metadata": {
    "id": "vpFW97CDxCTp"
   },
   "outputs": [],
   "source": [
    "def positiveMatrix(X):\n",
    "  result = np.where(X<0, 0, X)\n",
    "  return result"
   ]
  },
  {
   "cell_type": "code",
   "execution_count": 3,
   "metadata": {
    "id": "hT8hypbXhjlX"
   },
   "outputs": [],
   "source": [
    "# Generate MaxWeight service matrix for the given nxn queue switch matrix\n",
    "def generateMaxWeightServiceMatrix(n, q):\n",
    "  bipartite_graph = nx.complete_bipartite_graph(n,n)\n",
    "  s = np.zeros((n,n))\n",
    "  for e,(u,v) in enumerate(bipartite_graph.edges()):\n",
    "    bipartite_graph[u][v]['weight'] = q[u][v-n]\n",
    "\n",
    "  max_weight_match = nx.max_weight_matching(bipartite_graph,maxcardinality=True)\n",
    "\t\n",
    "  for e,(u,v) in enumerate(max_weight_match):\n",
    "    s[u][v-n] = 1\n",
    "  return s"
   ]
  },
  {
   "cell_type": "code",
   "execution_count": 4,
   "metadata": {
    "id": "vADy2K3NhotH"
   },
   "outputs": [],
   "source": [
    "# Given size of the switch n, design a permutation matrix\n",
    "def generateRandomServiceMatrix(n):\n",
    "  num_arr = np.arange(n)\n",
    "  perm_mat = np.zeros((n, n))\n",
    "  for i in range(n):\n",
    "    t = np.random.choice(num_arr, 1)[0]\n",
    "    num_arr = np.delete(num_arr, np.where(num_arr == t))\n",
    "    perm_mat[i][t] = 1\n",
    "  return perm_mat"
   ]
  },
  {
   "cell_type": "code",
   "execution_count": 5,
   "metadata": {
    "id": "NXngUQQNwkA0"
   },
   "outputs": [],
   "source": [
    "def chooseEpsilonGreedyServiceConfiguration(n, Q, q, epsilon):\n",
    "  if np.random.uniform() < epsilon: # when we need to use the greedy policy with respect to Q\n",
    "    ind = qToList(q)\n",
    "    Q_value_vector = Q[tuple(ind)]\n",
    "    res = np.argmax(Q_value_vector)\n",
    "    return indexToService(n, res)\n",
    "  else: # when we need to use the random policy\n",
    "    return generateRandomServiceMatrix(n)\n",
    "\n",
    "def chooseRandomMaxWeightServiceConfiguration(n, q, epsilon):\n",
    "  if np.random.uniform() < epsilon: # when we need to use the greedy policy with respect to Q\n",
    "    return generateMaxWeightServiceMatrix(n, q)\n",
    "  else: # when we need to use the random policy\n",
    "    return generateRandomServiceMatrix(n)\n",
    "\n",
    "# Given queue configuration to list\n",
    "def qToList(q):\n",
    "  q = q.astype(int)\n",
    "  q = q.flatten()\n",
    "  q = q.tolist();\n",
    "  return q\n",
    "\n",
    "def possibleServiceConfigs(n):\n",
    "  a = \"\"\n",
    "  for i in range(n):\n",
    "    a += str(i)\n",
    "  p = permutations(a) \n",
    "\n",
    "  service_array = []\n",
    "  for i in p:\n",
    "    t = ''.join(i)\n",
    "    service_array.append(t)\n",
    "  return service_array\n",
    "\n",
    "# Find the index correlating to the action\n",
    "def serviceToIndex(n, s):\n",
    "  service_array = possibleServiceConfigs(n)\n",
    "  service_index=\"\"\n",
    "  for i in range(n):\n",
    "    t = np.where(s[i]==1)[0][0]\n",
    "    service_index += str(t)\n",
    "  return service_array.index(service_index)\n",
    "\n",
    "def indexToService(n, ind):\n",
    "  service_array = possibleServiceConfigs(n)\n",
    "  t = service_array[ind]\n",
    "  s = np.zeros((n, n))\n",
    "  r = 0\n",
    "  for i in t:\n",
    "    s[r, int(i)] = 1\n",
    "    r += 1\n",
    "  return s"
   ]
  },
  {
   "cell_type": "code",
   "execution_count": 6,
   "metadata": {
    "id": "yac31IU4hw6u"
   },
   "outputs": [],
   "source": [
    "# No of iterations of training\n",
    "train_eps = 13000000\n",
    "test_eps = 10000000\n",
    "# Random variables required for algo\n",
    "l = 5\n",
    "# Size of the switch\n",
    "n = 3\n",
    "# Threshold for L2 Norm\n",
    "c = 10\n",
    "# Threshold for Q Table size\n",
    "c1 = (int)(c/2)\n",
    "# Arrival rate matrix\n",
    "a_rate = np.ones((n,n))*0.99*(1/n)"
   ]
  },
  {
   "cell_type": "markdown",
   "metadata": {
    "id": "JkNrnxg2CLJl"
   },
   "source": [
    "## Average cost Q Learning"
   ]
  },
  {
   "cell_type": "code",
   "execution_count": 9,
   "metadata": {
    "id": "8BYOaMiwCOI3"
   },
   "outputs": [],
   "source": [
    "def AverageCostQLearning(train_eps, test_eps):\n",
    "  random.seed(10)\n",
    "  # Q Table\n",
    "  action_space = math.factorial(n)\n",
    "  state_space = [c1+1]*n*n\n",
    "  state_space.append(action_space)\n",
    "  Q = np.zeros(state_space)\n",
    "  # Queue size of switch\n",
    "  q_switch_matrix = np.zeros((n, n))\n",
    "  # Start training the Differential Q learning + MaxWeight algo\n",
    "  service_config = np.zeros((n,n))\n",
    "  mu = 0\n",
    "\n",
    "  for k in range(1, train_eps+1):\n",
    "    s = np.zeros((n,n))\n",
    "    # Choose Random policy if weight within L2 norm threshold\n",
    "    if LA.norm(q_switch_matrix, 'fro') <= c: #c1 = 10\n",
    "      service_config = generateRandomServiceMatrix(n)\n",
    "    # Choose MaxWeight Policy otherwise\n",
    "    else:\n",
    "      service_config = generateMaxWeightServiceMatrix(n, q_switch_matrix)\n",
    "    # Generate the arrival matrix\n",
    "    arrival_matrix = np.random.poisson(a_rate)\n",
    "    # compute current reward r\n",
    "    r = np.sum(q_switch_matrix) \n",
    "    q_ = q_switch_matrix\n",
    "    q_switch_matrix = positiveMatrix(q_switch_matrix + arrival_matrix - service_config)\n",
    "    # Updating Q table for all q_switch_matrix less than threshold\n",
    "    if np.max(q_) <= c1:\n",
    "      m_ = mu # store m(t - 1)\n",
    "      mu = (1 - 1 / k) * mu  + 1 / k * r # compute past average reward m(t) based on t, m(t - 1), and current reward r(t - 1)\n",
    "      # Convert the service config to index to obtain Q value\n",
    "      ind = serviceToIndex(n, service_config)\n",
    "      q_index = qToList(q_)\n",
    "      tup_q_i = tuple(q_index)\n",
    "      Q_value_vector = Q[tup_q_i]\n",
    "      q_index.append(ind)\n",
    "      q_index = tuple(q_index)\n",
    "      # update action-value estimate Q(q(t - 1), s(t - 1)) based on Q(q(t - 1), s(t - 1)), Q(q(t), .), t, r(t - 1)\n",
    "      Q[q_index] += (1 / k) * (r - m_ + min(Q_value_vector) - Q[q_index])\n",
    "\n",
    "  # Testing starts from the last q_switch_matrix of the training phase\n",
    "  avg_reward = 0\n",
    "  for k in range(1, test_eps+1):\n",
    "    # compute current reward r(t - 1)\n",
    "    r = np.sum(q_switch_matrix) \n",
    "    # compute past average reward m(t) based on t and r\n",
    "    avg_reward = (1 - 1 / k) * avg_reward  + 1 / k * r\n",
    "    # Choose service_config based on current q_switch_matrix through Q Table if maxlength is lesser than threshold\n",
    "    if np.max(q_switch_matrix) <= c1:\n",
    "      q_index = qToList(q_switch_matrix)\n",
    "      tup_q_i = tuple(q_index)\n",
    "      Q_value_vector = Q[tup_q_i]\n",
    "      # Choose vector which gives the highest reward\n",
    "      ind = np.argmax(Q_value_vector)\n",
    "      service_config = indexToService(n, ind)\n",
    "    else:\n",
    "      service_config = generateMaxWeightServiceMatrix(n, q_switch_matrix)\n",
    "    arrival_matrix = np.random.poisson(a_rate)\n",
    "    q_switch_matrix = positiveMatrix(q_switch_matrix + arrival_matrix - service_config)\n",
    "  print(\"Average queue length:\", avg_reward)\n",
    "  return avg_reward\n"
   ]
  },
  {
   "cell_type": "code",
   "execution_count": 10,
   "metadata": {
    "colab": {
     "base_uri": "https://localhost:8080/"
    },
    "id": "wa4JqR-qCljV",
    "outputId": "2e8275d1-4153-4f39-9470-c16b174914cf"
   },
   "outputs": [
    {
     "name": "stdout",
     "output_type": "stream",
     "text": [
      "Average queue length: 251.73752319996927\n"
     ]
    },
    {
     "data": {
      "text/plain": [
       "251.73752319996927"
      ]
     },
     "execution_count": 10,
     "metadata": {},
     "output_type": "execute_result"
    }
   ],
   "source": [
    "AverageCostQLearning(train_eps, test_eps)"
   ]
  },
  {
   "cell_type": "code",
   "execution_count": null,
   "metadata": {
    "id": "nyFvPPABfQ6U"
   },
   "outputs": [],
   "source": []
  }
 ],
 "metadata": {
  "colab": {
   "collapsed_sections": [],
   "name": "Modified PDGRL",
   "provenance": []
  },
  "kernelspec": {
   "display_name": "Python 3",
   "language": "python",
   "name": "python3"
  },
  "language_info": {
   "codemirror_mode": {
    "name": "ipython",
    "version": 3
   },
   "file_extension": ".py",
   "mimetype": "text/x-python",
   "name": "python",
   "nbconvert_exporter": "python",
   "pygments_lexer": "ipython3",
   "version": "3.8.5"
  }
 },
 "nbformat": 4,
 "nbformat_minor": 1
}
