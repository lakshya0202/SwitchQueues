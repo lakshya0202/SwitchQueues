{
 "cells": [
  {
   "cell_type": "code",
   "execution_count": null,
   "metadata": {
    "id": "TEmji3-DgoYl"
   },
   "outputs": [],
   "source": [
    "import numpy as np\n",
    "import matplotlib.pyplot as plt\n",
    "import random\n",
    "random.seed(10)\n",
    "import networkx as nx\n",
    "import math\n",
    "from numpy import linalg as LA\n",
    "from itertools import permutations"
   ]
  },
  {
   "cell_type": "code",
   "execution_count": null,
   "metadata": {
    "id": "vpFW97CDxCTp"
   },
   "outputs": [],
   "source": [
    "def positiveMatrix(X):\n",
    "  result = np.where(X<0, 0, X)\n",
    "  return result"
   ]
  },
  {
   "cell_type": "code",
   "execution_count": null,
   "metadata": {
    "id": "hT8hypbXhjlX"
   },
   "outputs": [],
   "source": [
    "# Generate MaxWeight service matrix for the given nxn queue switch matrix\n",
    "def generateMaxWeightServiceMatrix(n, q):\n",
    "  bipartite_graph = nx.complete_bipartite_graph(n,n)\n",
    "  s = np.zeros((n,n))\n",
    "  for e,(u,v) in enumerate(bipartite_graph.edges()):\n",
    "    bipartite_graph[u][v]['weight'] = q[u][v-n]\n",
    "\n",
    "  max_weight_match = nx.max_weight_matching(bipartite_graph,maxcardinality=True)\n",
    "\t\n",
    "  for e,(u,v) in enumerate(max_weight_match):\n",
    "    s[u][v-n] = 1\n",
    "  return s"
   ]
  },
  {
   "cell_type": "code",
   "execution_count": null,
   "metadata": {
    "id": "vADy2K3NhotH"
   },
   "outputs": [],
   "source": [
    "# Given size of the switch n, design a permutation matrix\n",
    "def generateRandomServiceMatrix(n):\n",
    "  num_arr = np.arange(n)\n",
    "  perm_mat = np.zeros((n, n))\n",
    "  for i in range(n):\n",
    "    t = np.random.choice(num_arr, 1)[0]\n",
    "    num_arr = np.delete(num_arr, np.where(num_arr == t))\n",
    "    perm_mat[i][t] = 1\n",
    "  return perm_mat"
   ]
  },
  {
   "cell_type": "code",
   "execution_count": null,
   "metadata": {
    "id": "NXngUQQNwkA0"
   },
   "outputs": [],
   "source": [
    "def chooseEpsilonGreedyServiceConfiguration(n, Q, q, epsilon):\n",
    "  if np.random.uniform() < epsilon: # when we need to use the greedy policy with respect to Q\n",
    "    ind = qToList(q)\n",
    "    Q_value_vector = Q[tuple(ind)]\n",
    "    res = np.argmax(Q_value_vector)\n",
    "    return indexToService(n, res)\n",
    "  else: # when we need to use the random policy\n",
    "    return generateRandomServiceMatrix(n)\n",
    "\n",
    "def chooseRandomMaxWeightServiceConfiguration(n, q, epsilon):\n",
    "  if np.random.uniform() < epsilon: # when we need to use the greedy policy with respect to Q\n",
    "    return generateMaxWeightServiceMatrix(n, q)\n",
    "  else: # when we need to use the random policy\n",
    "    return generateRandomServiceMatrix(n)\n",
    "\n",
    "# Given queue configuration to list\n",
    "def qToList(q):\n",
    "  q = q.astype(int)\n",
    "  q = q.flatten()\n",
    "  q = q.tolist();\n",
    "  return q\n",
    "\n",
    "def possibleServiceConfigs(n):\n",
    "  a = \"\"\n",
    "  for i in range(n):\n",
    "    a += str(i)\n",
    "  p = permutations(a) \n",
    "\n",
    "  service_array = []\n",
    "  for i in p:\n",
    "    t = ''.join(i)\n",
    "    service_array.append(t)\n",
    "  return service_array\n",
    "\n",
    "# Find the index correlating to the action\n",
    "def serviceToIndex(n, s):\n",
    "  service_array = possibleServiceConfigs(n)\n",
    "  service_index=\"\"\n",
    "  for i in range(n):\n",
    "    t = np.where(s[i]==1)[0][0]\n",
    "    service_index += str(t)\n",
    "  return service_array.index(service_index)\n",
    "\n",
    "def indexToService(n, ind):\n",
    "  service_array = possibleServiceConfigs(n)\n",
    "  t = service_array[ind]\n",
    "  s = np.zeros((n, n))\n",
    "  r = 0\n",
    "  for i in t:\n",
    "    s[r, int(i)] = 1\n",
    "    r += 1\n",
    "  return s"
   ]
  },
  {
   "cell_type": "code",
   "execution_count": null,
   "metadata": {
    "id": "yac31IU4hw6u"
   },
   "outputs": [],
   "source": [
    "# No of iterations of training\n",
    "train_eps = 13000000\n",
    "test_eps = 10000000\n",
    "# Random variables required for algo\n",
    "l = 5\n",
    "# Size of the switch\n",
    "n = 3\n",
    "# Threshold for L2 Norm\n",
    "c = 10\n",
    "# Threshold for Q Table size\n",
    "c1 = (int)(c/2)\n",
    "# Arrival rate matrix\n",
    "a_rate = np.ones((n,n))*0.99*(1/n)"
   ]
  },
  {
   "cell_type": "markdown",
   "metadata": {
    "id": "MAvUCDEzzgYl"
   },
   "source": [
    "## MaxWeight\n",
    "\n",
    "Placeholder Test"
   ]
  },
  {
   "cell_type": "code",
   "execution_count": 7,
   "metadata": {
    "colab": {
     "base_uri": "https://localhost:8080/"
    },
    "id": "mkN2KcW4oSQf",
    "outputId": "608cdcc8-6f3c-4e87-960d-33a198cf7dc1"
   },
   "outputs": [
    {
     "name": "stdout",
     "output_type": "stream",
     "text": [
      "Average Arrival Rate Matrix =\n",
      "[[0.33 0.33 0.33]\n",
      " [0.33 0.33 0.33]\n",
      " [0.33 0.33 0.33]]\n",
      "\n",
      "Average Total Queue Length =\n",
      "244.5977022999819\n"
     ]
    }
   ],
   "source": [
    "random.seed(10)\n",
    "# Initialize queue\n",
    "q = np.zeros((n, n))\n",
    "# Average queue length\n",
    "avg_reward = 0\n",
    "\n",
    "# Run the simulations\n",
    "for t in range(1, test_eps+1):\n",
    "  a = np.random.poisson(a_rate)\n",
    "  s = generateMaxWeightServiceMatrix(n, q)\n",
    "  q = (positiveMatrix(q+a-s))\n",
    "  avg_reward = (1 - 1 / t) * avg_reward  + 1 / t * np.sum(q)\n",
    "\n",
    "print('Average Arrival Rate Matrix =')\n",
    "print(a_rate)\n",
    "print('\\nAverage Total Queue Length =')\n",
    "print(avg_reward)"
   ]
  },
  {
   "cell_type": "markdown",
   "metadata": {
    "id": "cUOCUvMdzcm_"
   },
   "source": [
    "## Differential Q Learning"
   ]
  },
  {
   "cell_type": "code",
   "execution_count": 8,
   "metadata": {
    "id": "yb8brF3rib2Q"
   },
   "outputs": [],
   "source": [
    "def DifferentialQLearning(eta, alpha, train_eps, test_eps):\n",
    "  random.seed(10)\n",
    "  # Q Table\n",
    "  action_space = math.factorial(n)\n",
    "  state_space = [c1+1]*n*n\n",
    "  state_space.append(action_space)\n",
    "  Q = np.zeros(state_space)\n",
    "  # Queue size of switch\n",
    "  q_switch_matrix = np.zeros((n, n))\n",
    "  # Start training the Differential Q learning + MaxWeight algo\n",
    "  mu = 0\n",
    "  service_config = np.zeros((n,n))\n",
    "  for k in range(1, train_eps+1):\n",
    "    s = np.zeros((n,n))\n",
    "    # Choose Random policy if weight within L2 norm threshold\n",
    "    if LA.norm(q_switch_matrix, 'fro') <= c:\n",
    "      service_config = generateRandomServiceMatrix(n)\n",
    "    # Choose MaxWeight Policy otherwise\n",
    "    else:\n",
    "      service_config = generateMaxWeightServiceMatrix(n, q_switch_matrix)\n",
    "    # Generate the arrival matrix\n",
    "    arrival_matrix = np.random.poisson(a_rate)\n",
    "    # compute current reward r\n",
    "    r = np.sum(q_switch_matrix) \n",
    "    q_ = q_switch_matrix\n",
    "    q_switch_matrix = positiveMatrix(q_switch_matrix + arrival_matrix - service_config)\n",
    "    # Updating Q table for all q_switch_matrix less than threshold\n",
    "    if np.max(q_) <= c1:\n",
    "      # store m(t - 1)\n",
    "      m_ = mu\n",
    "      # Convert the service config to index to obtain Q value\n",
    "      ind = serviceToIndex(n, service_config)\n",
    "      q_index = qToList(q_)\n",
    "      tup_q_i = tuple(q_index)\n",
    "      Q_value_vector = Q[tup_q_i]\n",
    "      q_index.append(ind)\n",
    "      q_index = tuple(q_index)\n",
    "      # Updating the average reward mu\n",
    "      mu = mu  + eta * alpha * (r - m_ + min(Q_value_vector) - Q[q_index])\n",
    "      # update action-value estimate Q(q(t - 1), s(t - 1)) based on Q(q(t - 1), s(t - 1)), Q(q(t), .), t, r(t - 1), and m(t - 1)\n",
    "      Q[q_index] += alpha * (r - m_ + min(Q_value_vector) - Q[q_index])\n",
    "\n",
    "  # Testing starts from the last q_switch_matrix of the training phase\n",
    "  avg_reward = 0\n",
    "  for k in range(1, test_eps+1):\n",
    "    # compute current reward r(t - 1)\n",
    "    r = np.sum(q_switch_matrix) \n",
    "    # compute past average reward m(t) based on t and r\n",
    "    avg_reward = (1 - 1 / k) * avg_reward  + 1 / k * r\n",
    "    # Choose service_config based on current q_switch_matrix through Q Table if maxlength is lesser than threshold\n",
    "    if np.max(q_switch_matrix) <= c1:\n",
    "      q_index = qToList(q_switch_matrix)\n",
    "      tup_q_i = tuple(q_index)\n",
    "      Q_value_vector = Q[tup_q_i]\n",
    "      # Choose vector which gives the highest reward\n",
    "      ind = np.argmax(Q_value_vector)\n",
    "      service_config = indexToService(n, ind)\n",
    "    else:\n",
    "      service_config = generateMaxWeightServiceMatrix(n, q_switch_matrix)\n",
    "    arrival_matrix = np.random.poisson(a_rate)\n",
    "    q_switch_matrix = positiveMatrix(q_switch_matrix + arrival_matrix - service_config)\n",
    "  print(\"Average queue length:\", avg_reward, \"for eta:\",  eta, \"and alpha:\", alpha)\n",
    "  return avg_reward\n"
   ]
  },
  {
   "cell_type": "code",
   "execution_count": null,
   "metadata": {
    "colab": {
     "base_uri": "https://localhost:8080/",
     "height": 509
    },
    "id": "2QcKuXwqw4Pc",
    "outputId": "06b3013e-5163-45a2-cdec-7e9df739992e"
   },
   "outputs": [
    {
     "name": "stdout",
     "output_type": "stream",
     "text": [
      "Average queue length: 240.15092149997918 for eta: 0.1 and alpha: 0.001\n",
      "Average queue length: 243.9118387999535 for eta: 0.1 and alpha: 0.01\n",
      "Average queue length: 241.505440699998 for eta: 0.1 and alpha: 0.1\n",
      "Average queue length: 252.23453209998547 for eta: 0.1 and alpha: 0.2\n",
      "Average queue length: 242.9937977999714 for eta: 0.1 and alpha: 0.3\n",
      "Average queue length: 250.6285507999795 for eta: 0.1 and alpha: 0.4\n",
      "Average queue length: 231.80205689995222 for eta: 0.1 and alpha: 0.5\n",
      "Average queue length: 252.35023709998887 for eta: 0.1 and alpha: 0.6\n",
      "Average queue length: 234.44478749997762 for eta: 0.1 and alpha: 0.7\n"
     ]
    }
   ],
   "source": [
    "eta = 0.1\n",
    "# eta = np.linspace(0, 2, 21)\n",
    "\n",
    "alpha = np.array([0.001, 0.01, 0.1, 0.2, 0.3, 0.4, 0.5, 0.6, 0.7, 0.8, 0.9])\n",
    "\n",
    "avg_total_q = np.zeros(len(alpha))\n",
    "for i in range(len(alpha)):\n",
    "    avg_total_q[i] = DifferentialQLearning(eta, alpha[i], train_eps, test_eps)\n",
    "\n",
    "plt.plot(alpha, avg_total_q)\n",
    "plt.xlabel('Alpha')\n",
    "plt.ylabel('Average Total Queue Length')\n",
    "plt.title('Differential Q-learning eta = 0.1, and numOfIterations = %d' %train_eps)\n",
    "plt.grid()\n",
    "plt.show()"
   ]
  },
  {
   "cell_type": "code",
   "execution_count": 17,
   "metadata": {},
   "outputs": [
    {
     "name": "stdout",
     "output_type": "stream",
     "text": [
      "Average queue length: 240.12406699993215 for eta: 0.1 and alpha: 0.8\n",
      "Average queue length: 244.00403769998593 for eta: 0.1 and alpha: 0.9\n"
     ]
    }
   ],
   "source": [
    "eta = 0.1\n",
    "# eta = np.linspace(0, 2, 21)\n",
    "\n",
    "alpha = np.array([0.8, 0.9])\n",
    "\n",
    "avg_total_q = np.zeros(len(alpha))\n",
    "for i in range(len(alpha)):\n",
    "    avg_total_q[i] = DifferentialQLearning(eta, alpha[i], train_eps, test_eps)"
   ]
  },
  {
   "cell_type": "code",
   "execution_count": null,
   "metadata": {
    "colab": {
     "background_save": true,
     "base_uri": "https://localhost:8080/"
    },
    "id": "xG1Rl8H1ZDBv",
    "outputId": "d62ac0ed-36fe-4917-c1f7-e8410e04ab81"
   },
   "outputs": [
    {
     "name": "stdout",
     "output_type": "stream",
     "text": [
      "Average queue length: 241.1798624999681 for eta: 0.1 and alpha: 0.1\n",
      "Average queue length: 244.52042930000445 for eta: 0.2 and alpha: 0.1\n",
      "Average queue length: 251.109469099991 for eta: 0.3 and alpha: 0.1\n",
      "Average queue length: 238.6904421999949 for eta: 0.4 and alpha: 0.1\n",
      "Average queue length: 235.67986409997494 for eta: 0.5 and alpha: 0.1\n",
      "Average queue length: 250.55306590001314 for eta: 0.6 and alpha: 0.1\n",
      "Average queue length: 244.57762110002716 for eta: 0.7 and alpha: 0.1\n"
     ]
    }
   ],
   "source": [
    "# eta = 0.1\n",
    "eta = np.array([0.1, 0.2, 0.3, 0.4, 0.5, 0.6, 0.7, 0.8, 0.9, 1])\n",
    "\n",
    "alpha = 0.1\n",
    "# alpha = np.array([0.005, 0.007, 0.008, 0.009, 0.01, 0.1, 0.2, 0.3, 0.4, 0.5, 0.6, 0.7, 0.8, 0.9])\n",
    "\n",
    "avg_total_q = np.zeros(10)\n",
    "for i in range(10):\n",
    "    avg_total_q[i] = DifferentialQLearning(eta[i], alpha, train_eps, test_eps)\n",
    "\n",
    "plt.plot(eta, avg_total_q)\n",
    "plt.xlabel('Eta')\n",
    "plt.ylabel('Average Total Queue Length')\n",
    "plt.title('Differential Q-learning alpha = 0.1, and numOfIterations = %d' %train_eps)\n",
    "plt.grid()\n",
    "plt.show()"
   ]
  },
  {
   "cell_type": "code",
   "execution_count": 9,
   "metadata": {},
   "outputs": [
    {
     "name": "stdout",
     "output_type": "stream",
     "text": [
      "Average queue length: 253.40784689991668 for eta: 0.8 and alpha: 0.1\n",
      "Average queue length: 252.85984000001088 for eta: 0.9 and alpha: 0.1\n",
      "Average queue length: 253.82856319997558 for eta: 1.0 and alpha: 0.1\n"
     ]
    },
    {
     "ename": "IndexError",
     "evalue": "index 3 is out of bounds for axis 0 with size 3",
     "output_type": "error",
     "traceback": [
      "\u001b[0;31m---------------------------------------------------------------------------\u001b[0m",
      "\u001b[0;31mIndexError\u001b[0m                                Traceback (most recent call last)",
      "\u001b[0;32m<ipython-input-9-ed855adac379>\u001b[0m in \u001b[0;36m<module>\u001b[0;34m\u001b[0m\n\u001b[1;32m      5\u001b[0m \u001b[0mavg_total_q\u001b[0m \u001b[0;34m=\u001b[0m \u001b[0mnp\u001b[0m\u001b[0;34m.\u001b[0m\u001b[0mzeros\u001b[0m\u001b[0;34m(\u001b[0m\u001b[0;36m10\u001b[0m\u001b[0;34m)\u001b[0m\u001b[0;34m\u001b[0m\u001b[0;34m\u001b[0m\u001b[0m\n\u001b[1;32m      6\u001b[0m \u001b[0;32mfor\u001b[0m \u001b[0mi\u001b[0m \u001b[0;32min\u001b[0m \u001b[0mrange\u001b[0m\u001b[0;34m(\u001b[0m\u001b[0;36m10\u001b[0m\u001b[0;34m)\u001b[0m\u001b[0;34m:\u001b[0m\u001b[0;34m\u001b[0m\u001b[0;34m\u001b[0m\u001b[0m\n\u001b[0;32m----> 7\u001b[0;31m     \u001b[0mavg_total_q\u001b[0m\u001b[0;34m[\u001b[0m\u001b[0mi\u001b[0m\u001b[0;34m]\u001b[0m \u001b[0;34m=\u001b[0m \u001b[0mDifferentialQLearning\u001b[0m\u001b[0;34m(\u001b[0m\u001b[0meta\u001b[0m\u001b[0;34m[\u001b[0m\u001b[0mi\u001b[0m\u001b[0;34m]\u001b[0m\u001b[0;34m,\u001b[0m \u001b[0malpha\u001b[0m\u001b[0;34m,\u001b[0m \u001b[0mtrain_eps\u001b[0m\u001b[0;34m,\u001b[0m \u001b[0mtest_eps\u001b[0m\u001b[0;34m)\u001b[0m\u001b[0;34m\u001b[0m\u001b[0;34m\u001b[0m\u001b[0m\n\u001b[0m",
      "\u001b[0;31mIndexError\u001b[0m: index 3 is out of bounds for axis 0 with size 3"
     ]
    }
   ],
   "source": [
    "eta = np.array([0.8, 0.9, 1])\n",
    "\n",
    "alpha = 0.1\n",
    "\n",
    "avg_total_q = np.zeros(10)\n",
    "for i in range(10):\n",
    "    avg_total_q[i] = DifferentialQLearning(eta[i], alpha, train_eps, test_eps)\n"
   ]
  },
  {
   "cell_type": "code",
   "execution_count": 11,
   "metadata": {},
   "outputs": [
    {
     "data": {
      "image/png": "[encoded data removed]",
      "text/plain": [
       "<Figure size 432x288 with 1 Axes>"
      ]
     },
     "metadata": {
      "needs_background": "light"
     },
     "output_type": "display_data"
    }
   ],
   "source": [
    "avg_total_q = [241.1798624999681, 244.52042930000445, 251.109469099991, 238.6904421999949, 235.67986409997494,\n",
    "                250.55306590001314, 244.57762110002716, 253.40784689991668, 252.85984000001088, 253.82856319997558]\n",
    "eta = np.array([0.1, 0.2, 0.3, 0.4, 0.5, 0.6, 0.7, 0.8, 0.9, 1])\n",
    "plt.plot(eta, avg_total_q)\n",
    "plt.xlabel('Eta')\n",
    "plt.ylabel('Average Total Queue Length')\n",
    "plt.title('Differential Q-learning alpha = 0.1, and numOfIterations = %d' %train_eps)\n",
    "plt.grid()\n",
    "plt.show()"
   ]
  },
  {
   "cell_type": "markdown",
   "metadata": {
    "id": "7wAOgPP21yF2"
   },
   "source": [
    "Best eta = 0.1 and alpha = 0.1 for Differential Q Learning"
   ]
  },
  {
   "cell_type": "code",
   "execution_count": 12,
   "metadata": {
    "id": "nyFvPPABfQ6U"
   },
   "outputs": [
    {
     "data": {
      "image/png": "[encoded data removed]",
      "text/plain": [
       "<Figure size 432x288 with 1 Axes>"
      ]
     },
     "metadata": {
      "needs_background": "light"
     },
     "output_type": "display_data"
    }
   ],
   "source": [
    "alpha = np.array([0.001, 0.01, 0.1, 0.2, 0.3, 0.4, 0.5, 0.6, 0.7, 0.8, 0.9])\n",
    "avg_total_q = [240.15092149997918,  243.9118387999535, 241.505440699998, 252.23453209998547, 242.9937977999714,\n",
    "               250.6285507999795, 231.80205689995222, 252.35023709998887, 234.44478749997762, 240.12406699993215,\n",
    "              244.00403769998593]\n",
    "plt.plot(alpha, avg_total_q)\n",
    "plt.xlabel('Alpha')\n",
    "plt.ylabel('Average Total Queue Length')\n",
    "plt.title('Differential Q-learning eta = 0.1, and numOfIterations = %d' %train_eps)\n",
    "plt.grid()\n",
    "plt.show()"
   ]
  }
 ],
 "metadata": {
  "colab": {
   "collapsed_sections": [],
   "name": "Modified PDGRL",
   "provenance": []
  },
  "kernelspec": {
   "display_name": "Python 3",
   "language": "python",
   "name": "python3"
  },
  "language_info": {
   "codemirror_mode": {
    "name": "ipython",
    "version": 3
   },
   "file_extension": ".py",
   "mimetype": "text/x-python",
   "name": "python",
   "nbconvert_exporter": "python",
   "pygments_lexer": "ipython3",
   "version": "3.8.5"
  }
 },
 "nbformat": 4,
 "nbformat_minor": 1
}
